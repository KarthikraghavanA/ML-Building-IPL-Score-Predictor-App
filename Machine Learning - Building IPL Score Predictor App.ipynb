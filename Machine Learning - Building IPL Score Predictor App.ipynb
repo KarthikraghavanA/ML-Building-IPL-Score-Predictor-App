{
 "cells": [
  {
   "cell_type": "markdown",
   "id": "9c5a0001",
   "metadata": {},
   "source": [
    "# Machine Learning - Building IPL Score Predictor App"
   ]
  },
  {
   "cell_type": "code",
   "execution_count": 1,
   "id": "5e3deb16",
   "metadata": {},
   "outputs": [],
   "source": [
    "import pandas as pd\n",
    "import numpy as np\n",
    "import pickle"
   ]
  },
  {
   "cell_type": "code",
   "execution_count": null,
   "id": "64b76c2c",
   "metadata": {},
   "outputs": [],
   "source": [
    "cData = pd.read_csv('https://raw.githubusercontent.com/ghimiresunil/IPL-First-Innings-Score-Prediction-/master/ipl.csv')\n",
    "cData.head()"
   ]
  },
  {
   "cell_type": "code",
   "execution_count": null,
   "id": "caa1038d",
   "metadata": {},
   "outputs": [],
   "source": [
    "# --- Data Cleaning ---\n",
    "# Removing unwanted column \n",
    "\n",
    "col_to_remove = ['mid', 'venue', 'batsman', 'bowler', 'striker', 'non-striker']\n",
    "cData.drop(labels=col_to_remove, axis=1, inplace=True)"
   ]
  },
  {
   "cell_type": "code",
   "execution_count": null,
   "id": "4fb491ac",
   "metadata": {},
   "outputs": [],
   "source": [
    "cData.head()"
   ]
  },
  {
   "cell_type": "code",
   "execution_count": null,
   "id": "2101c34c",
   "metadata": {},
   "outputs": [],
   "source": [
    "cData.bat_team.unique()"
   ]
  },
  {
   "cell_type": "code",
   "execution_count": null,
   "id": "3d619e13",
   "metadata": {},
   "outputs": [],
   "source": [
    "cData.bat_team.nunique()"
   ]
  },
  {
   "cell_type": "code",
   "execution_count": null,
   "id": "2a70ad10",
   "metadata": {},
   "outputs": [],
   "source": [
    "consistent_teams = ['Kolkata Knight Riders', 'Chennai Super Kings', 'Rajasthan Royals',\n",
    "       'Mumbai Indians', 'Kings XI Punjab',\n",
    "       'Royal Challengers Bangalore', 'Delhi Daredevils','Sunrisers Hyderabad']"
   ]
  },
  {
   "cell_type": "code",
   "execution_count": null,
   "id": "97babccb",
   "metadata": {},
   "outputs": [],
   "source": [
    "data = cData[(cData['bat_team'].isin(consistent_teams)) & (cData['bowl_team'].isin(consistent_teams))].copy()"
   ]
  },
  {
   "cell_type": "code",
   "execution_count": null,
   "id": "ede47bac",
   "metadata": {},
   "outputs": [],
   "source": [
    "new_data = data[data['overs'] > 5.0].copy() # removing the first 5 overs in ever batch "
   ]
  },
  {
   "cell_type": "code",
   "execution_count": null,
   "id": "89aa3841",
   "metadata": {},
   "outputs": [],
   "source": [
    "new_data"
   ]
  },
  {
   "cell_type": "code",
   "execution_count": null,
   "id": "c4b11e82",
   "metadata": {},
   "outputs": [],
   "source": [
    "print(new_data['bat_team'].unique())\n",
    "print(new_data['bowl_team'].unique())"
   ]
  },
  {
   "cell_type": "code",
   "execution_count": null,
   "id": "695e1a28",
   "metadata": {},
   "outputs": [],
   "source": [
    "new_data.dtypes"
   ]
  },
  {
   "cell_type": "code",
   "execution_count": null,
   "id": "337d1807",
   "metadata": {},
   "outputs": [],
   "source": [
    "new_data['date'] = pd.to_datetime(new_data['date'], dayfirst=False)"
   ]
  },
  {
   "cell_type": "code",
   "execution_count": null,
   "id": "94da79d8",
   "metadata": {},
   "outputs": [],
   "source": [
    "new_data.dtypes"
   ]
  },
  {
   "cell_type": "code",
   "execution_count": null,
   "id": "30e41591",
   "metadata": {},
   "outputs": [],
   "source": [
    "## Data Preprocessing\n",
    "# Converting categorical features using get dummies method\n",
    "\n",
    "encoded_df = pd.get_dummies(data=new_data,columns=['bat_team', 'bowl_team']).copy()"
   ]
  },
  {
   "cell_type": "code",
   "execution_count": null,
   "id": "468c1987",
   "metadata": {},
   "outputs": [],
   "source": [
    "encoded_df.head()"
   ]
  },
  {
   "cell_type": "code",
   "execution_count": null,
   "id": "13a130c5",
   "metadata": {},
   "outputs": [],
   "source": [
    "encoded_df.columns"
   ]
  },
  {
   "cell_type": "code",
   "execution_count": null,
   "id": "11bffbe4",
   "metadata": {},
   "outputs": [],
   "source": [
    "encoded_df.dtypes"
   ]
  },
  {
   "cell_type": "code",
   "execution_count": null,
   "id": "76176b94",
   "metadata": {},
   "outputs": [],
   "source": [
    "# Splitting the data into train and test\n",
    "\n",
    "train = encoded_df[encoded_df['date'].dt.year <= 2016].copy()\n",
    "test = encoded_df[encoded_df['date'].dt.year >= 2017].copy()"
   ]
  },
  {
   "cell_type": "code",
   "execution_count": null,
   "id": "f1c5e79b",
   "metadata": {},
   "outputs": [],
   "source": [
    "ytrain = train['total'].copy()\n",
    "Xtrain = train.drop('total', axis = 1).copy()\n",
    "\n",
    "ytest = test['total'].copy()\n",
    "Xtest = test.drop('total', axis = 1).copy()"
   ]
  },
  {
   "cell_type": "markdown",
   "id": "187e0c9b",
   "metadata": {},
   "source": [
    "## *Model Building*"
   ]
  },
  {
   "cell_type": "code",
   "execution_count": null,
   "id": "54262bab",
   "metadata": {},
   "outputs": [],
   "source": [
    "print(f'Xtrain {Xtrain.shape}, Xtest {Xtest.shape}, ytrain {ytrain.shape}, ytest {ytest.shape}')"
   ]
  },
  {
   "cell_type": "code",
   "execution_count": null,
   "id": "d3816f09",
   "metadata": {},
   "outputs": [],
   "source": [
    "Xtrain.drop('date', axis=1,inplace=True)\n",
    "Xtest.drop('date', axis=1,inplace=True)"
   ]
  },
  {
   "cell_type": "code",
   "execution_count": null,
   "id": "75d4e9f1",
   "metadata": {},
   "outputs": [],
   "source": [
    "from sklearn.linear_model import LinearRegression\n",
    "\n",
    "lir = LinearRegression()\n",
    "\n",
    "lir.fit(Xtrain, ytrain)"
   ]
  },
  {
   "cell_type": "code",
   "execution_count": null,
   "id": "2cd1b559",
   "metadata": {},
   "outputs": [],
   "source": [
    "lir.score(Xtrain, ytrain)"
   ]
  },
  {
   "cell_type": "code",
   "execution_count": null,
   "id": "066df126",
   "metadata": {},
   "outputs": [],
   "source": [
    "lir.score(Xtest, ytest)"
   ]
  },
  {
   "cell_type": "code",
   "execution_count": null,
   "id": "1fbd472e",
   "metadata": {},
   "outputs": [],
   "source": [
    "pickle.dump(lir, open('lirmodel.pkl', 'wb'))"
   ]
  },
  {
   "cell_type": "code",
   "execution_count": null,
   "id": "3a30db28",
   "metadata": {},
   "outputs": [],
   "source": [
    "# !pip show scikit-learn"
   ]
  },
  {
   "cell_type": "code",
   "execution_count": null,
   "id": "d6ed5b93",
   "metadata": {},
   "outputs": [],
   "source": [
    "# !pip install -U scikit-learn"
   ]
  },
  {
   "cell_type": "code",
   "execution_count": null,
   "id": "88fd2ffe",
   "metadata": {},
   "outputs": [],
   "source": []
  }
 ],
 "metadata": {
  "kernelspec": {
   "display_name": "Python 3 (ipykernel)",
   "language": "python",
   "name": "python3"
  },
  "language_info": {
   "codemirror_mode": {
    "name": "ipython",
    "version": 3
   },
   "file_extension": ".py",
   "mimetype": "text/x-python",
   "name": "python",
   "nbconvert_exporter": "python",
   "pygments_lexer": "ipython3",
   "version": "3.9.7"
  }
 },
 "nbformat": 4,
 "nbformat_minor": 5
}
